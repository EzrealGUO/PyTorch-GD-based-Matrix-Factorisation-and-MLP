{
 "cells": [
  {
   "cell_type": "code",
   "execution_count": 16,
   "id": "49b9b414",
   "metadata": {},
   "outputs": [],
   "source": [
    "from typing import Tuple\n",
    "import torch\n",
    "def gd_factorise_ad(A: torch.Tensor, rank:int, num_epochs=1000, lr=0.01) -> Tuple[torch.Tensor, torch.Tensor]:\n",
    "    m,n = A.size()\n",
    "    r = rank\n",
    "    U = torch.randn((m,r))\n",
    "    V = torch.randn((n,r))\n",
    "    U = U.double()\n",
    "    V = V.double()\n",
    "    U = U.clone().detach().requires_grad_(True)\n",
    "    V = V.clone().detach().requires_grad_(True)\n",
    "    for epoch in range(num_epochs):\n",
    "        Error = torch.nn.functional.mse_loss(U@V.t(),A,reduction ='sum')\n",
    "        Error.backward()\n",
    "        U.data -= lr*U.grad\n",
    "        V.data -= lr*V.grad\n",
    "        U.grad.zero_()\n",
    "        V.grad.zero_()\n",
    "        if epoch%10==0:\n",
    "            print(\"Epoch:\",epoch,\"Error:\",Error)\n",
    "    return U, V "
   ]
  },
  {
   "cell_type": "code",
   "execution_count": 14,
   "id": "7f6404ea",
   "metadata": {},
   "outputs": [],
   "source": [
    "from typing import Tuple\n",
    "import torch\n",
    "def gd_factorise_ad(A: torch.Tensor, rank:int, num_epochs=1000, lr=0.01) -> Tuple[torch.Tensor, torch.Tensor]:\n",
    "    m,n = A.size()\n",
    "    r = rank\n",
    "    U = torch.randn((m,r))\n",
    "    V = torch.randn((n,r))\n",
    "    U = U.double()\n",
    "    V = V.double()\n",
    "    U = U.clone().detach().requires_grad_(True)\n",
    "    V = V.clone().detach().requires_grad_(True)\n",
    "    for epoch in range(num_epochs):\n",
    "        Error = torch.nn.functional.mse_loss(U@V.t(),A,reduction ='sum')\n",
    "        Error.backward()\n",
    "        with torch.no_grad():\n",
    "            U.data -= lr*U.grad\n",
    "            V.data -= lr*V.grad\n",
    "        U.grad.zero_()\n",
    "        V.grad.zero_()\n",
    "        if epoch%10==0:\n",
    "            print(\"Epoch:\",epoch,\"Error:\",Error)\n",
    "    return U, V "
   ]
  },
  {
   "cell_type": "code",
   "execution_count": 17,
   "id": "cea129fc",
   "metadata": {},
   "outputs": [
    {
     "name": "stdout",
     "output_type": "stream",
     "text": [
      "torch.Size([150, 4])\n",
      "Epoch: 0 Error: tensor(1988.9996, dtype=torch.float64, grad_fn=<MseLossBackward0>)\n",
      "Epoch: 10 Error: tensor(54.0795, dtype=torch.float64, grad_fn=<MseLossBackward0>)\n",
      "Epoch: 20 Error: tensor(46.7408, dtype=torch.float64, grad_fn=<MseLossBackward0>)\n",
      "Epoch: 30 Error: tensor(40.0153, dtype=torch.float64, grad_fn=<MseLossBackward0>)\n",
      "Epoch: 40 Error: tensor(27.5734, dtype=torch.float64, grad_fn=<MseLossBackward0>)\n",
      "Epoch: 50 Error: tensor(18.6725, dtype=torch.float64, grad_fn=<MseLossBackward0>)\n",
      "Epoch: 60 Error: tensor(16.0085, dtype=torch.float64, grad_fn=<MseLossBackward0>)\n",
      "Epoch: 70 Error: tensor(15.4058, dtype=torch.float64, grad_fn=<MseLossBackward0>)\n",
      "Epoch: 80 Error: tensor(15.2714, dtype=torch.float64, grad_fn=<MseLossBackward0>)\n",
      "Epoch: 90 Error: tensor(15.2399, dtype=torch.float64, grad_fn=<MseLossBackward0>)\n",
      "Epoch: 100 Error: tensor(15.2320, dtype=torch.float64, grad_fn=<MseLossBackward0>)\n",
      "Epoch: 110 Error: tensor(15.2298, dtype=torch.float64, grad_fn=<MseLossBackward0>)\n",
      "Epoch: 120 Error: tensor(15.2291, dtype=torch.float64, grad_fn=<MseLossBackward0>)\n",
      "Epoch: 130 Error: tensor(15.2289, dtype=torch.float64, grad_fn=<MseLossBackward0>)\n",
      "Epoch: 140 Error: tensor(15.2289, dtype=torch.float64, grad_fn=<MseLossBackward0>)\n",
      "Epoch: 150 Error: tensor(15.2288, dtype=torch.float64, grad_fn=<MseLossBackward0>)\n",
      "Epoch: 160 Error: tensor(15.2288, dtype=torch.float64, grad_fn=<MseLossBackward0>)\n",
      "Epoch: 170 Error: tensor(15.2288, dtype=torch.float64, grad_fn=<MseLossBackward0>)\n",
      "Epoch: 180 Error: tensor(15.2288, dtype=torch.float64, grad_fn=<MseLossBackward0>)\n",
      "Epoch: 190 Error: tensor(15.2288, dtype=torch.float64, grad_fn=<MseLossBackward0>)\n",
      "Epoch: 200 Error: tensor(15.2288, dtype=torch.float64, grad_fn=<MseLossBackward0>)\n",
      "Epoch: 210 Error: tensor(15.2288, dtype=torch.float64, grad_fn=<MseLossBackward0>)\n",
      "Epoch: 220 Error: tensor(15.2288, dtype=torch.float64, grad_fn=<MseLossBackward0>)\n",
      "Epoch: 230 Error: tensor(15.2288, dtype=torch.float64, grad_fn=<MseLossBackward0>)\n",
      "Epoch: 240 Error: tensor(15.2288, dtype=torch.float64, grad_fn=<MseLossBackward0>)\n",
      "Epoch: 250 Error: tensor(15.2288, dtype=torch.float64, grad_fn=<MseLossBackward0>)\n",
      "Epoch: 260 Error: tensor(15.2288, dtype=torch.float64, grad_fn=<MseLossBackward0>)\n",
      "Epoch: 270 Error: tensor(15.2288, dtype=torch.float64, grad_fn=<MseLossBackward0>)\n",
      "Epoch: 280 Error: tensor(15.2288, dtype=torch.float64, grad_fn=<MseLossBackward0>)\n",
      "Epoch: 290 Error: tensor(15.2288, dtype=torch.float64, grad_fn=<MseLossBackward0>)\n",
      "Epoch: 300 Error: tensor(15.2288, dtype=torch.float64, grad_fn=<MseLossBackward0>)\n",
      "Epoch: 310 Error: tensor(15.2288, dtype=torch.float64, grad_fn=<MseLossBackward0>)\n",
      "Epoch: 320 Error: tensor(15.2288, dtype=torch.float64, grad_fn=<MseLossBackward0>)\n",
      "Epoch: 330 Error: tensor(15.2288, dtype=torch.float64, grad_fn=<MseLossBackward0>)\n",
      "Epoch: 340 Error: tensor(15.2288, dtype=torch.float64, grad_fn=<MseLossBackward0>)\n",
      "Epoch: 350 Error: tensor(15.2288, dtype=torch.float64, grad_fn=<MseLossBackward0>)\n",
      "Epoch: 360 Error: tensor(15.2288, dtype=torch.float64, grad_fn=<MseLossBackward0>)\n",
      "Epoch: 370 Error: tensor(15.2288, dtype=torch.float64, grad_fn=<MseLossBackward0>)\n",
      "Epoch: 380 Error: tensor(15.2288, dtype=torch.float64, grad_fn=<MseLossBackward0>)\n",
      "Epoch: 390 Error: tensor(15.2288, dtype=torch.float64, grad_fn=<MseLossBackward0>)\n",
      "Epoch: 400 Error: tensor(15.2288, dtype=torch.float64, grad_fn=<MseLossBackward0>)\n",
      "Epoch: 410 Error: tensor(15.2288, dtype=torch.float64, grad_fn=<MseLossBackward0>)\n",
      "Epoch: 420 Error: tensor(15.2288, dtype=torch.float64, grad_fn=<MseLossBackward0>)\n",
      "Epoch: 430 Error: tensor(15.2288, dtype=torch.float64, grad_fn=<MseLossBackward0>)\n",
      "Epoch: 440 Error: tensor(15.2288, dtype=torch.float64, grad_fn=<MseLossBackward0>)\n",
      "Epoch: 450 Error: tensor(15.2288, dtype=torch.float64, grad_fn=<MseLossBackward0>)\n",
      "Epoch: 460 Error: tensor(15.2288, dtype=torch.float64, grad_fn=<MseLossBackward0>)\n",
      "Epoch: 470 Error: tensor(15.2288, dtype=torch.float64, grad_fn=<MseLossBackward0>)\n",
      "Epoch: 480 Error: tensor(15.2288, dtype=torch.float64, grad_fn=<MseLossBackward0>)\n",
      "Epoch: 490 Error: tensor(15.2288, dtype=torch.float64, grad_fn=<MseLossBackward0>)\n",
      "Epoch: 500 Error: tensor(15.2288, dtype=torch.float64, grad_fn=<MseLossBackward0>)\n",
      "Epoch: 510 Error: tensor(15.2288, dtype=torch.float64, grad_fn=<MseLossBackward0>)\n",
      "Epoch: 520 Error: tensor(15.2288, dtype=torch.float64, grad_fn=<MseLossBackward0>)\n",
      "Epoch: 530 Error: tensor(15.2288, dtype=torch.float64, grad_fn=<MseLossBackward0>)\n",
      "Epoch: 540 Error: tensor(15.2288, dtype=torch.float64, grad_fn=<MseLossBackward0>)\n",
      "Epoch: 550 Error: tensor(15.2288, dtype=torch.float64, grad_fn=<MseLossBackward0>)\n",
      "Epoch: 560 Error: tensor(15.2288, dtype=torch.float64, grad_fn=<MseLossBackward0>)\n",
      "Epoch: 570 Error: tensor(15.2288, dtype=torch.float64, grad_fn=<MseLossBackward0>)\n",
      "Epoch: 580 Error: tensor(15.2288, dtype=torch.float64, grad_fn=<MseLossBackward0>)\n",
      "Epoch: 590 Error: tensor(15.2288, dtype=torch.float64, grad_fn=<MseLossBackward0>)\n",
      "Epoch: 600 Error: tensor(15.2288, dtype=torch.float64, grad_fn=<MseLossBackward0>)\n",
      "Epoch: 610 Error: tensor(15.2288, dtype=torch.float64, grad_fn=<MseLossBackward0>)\n",
      "Epoch: 620 Error: tensor(15.2288, dtype=torch.float64, grad_fn=<MseLossBackward0>)\n",
      "Epoch: 630 Error: tensor(15.2288, dtype=torch.float64, grad_fn=<MseLossBackward0>)\n",
      "Epoch: 640 Error: tensor(15.2288, dtype=torch.float64, grad_fn=<MseLossBackward0>)\n",
      "Epoch: 650 Error: tensor(15.2288, dtype=torch.float64, grad_fn=<MseLossBackward0>)\n",
      "Epoch: 660 Error: tensor(15.2288, dtype=torch.float64, grad_fn=<MseLossBackward0>)\n",
      "Epoch: 670 Error: tensor(15.2288, dtype=torch.float64, grad_fn=<MseLossBackward0>)\n",
      "Epoch: 680 Error: tensor(15.2288, dtype=torch.float64, grad_fn=<MseLossBackward0>)\n",
      "Epoch: 690 Error: tensor(15.2288, dtype=torch.float64, grad_fn=<MseLossBackward0>)\n",
      "Epoch: 700 Error: tensor(15.2288, dtype=torch.float64, grad_fn=<MseLossBackward0>)\n",
      "Epoch: 710 Error: tensor(15.2288, dtype=torch.float64, grad_fn=<MseLossBackward0>)\n",
      "Epoch: 720 Error: tensor(15.2288, dtype=torch.float64, grad_fn=<MseLossBackward0>)\n",
      "Epoch: 730 Error: tensor(15.2288, dtype=torch.float64, grad_fn=<MseLossBackward0>)\n",
      "Epoch: 740 Error: tensor(15.2288, dtype=torch.float64, grad_fn=<MseLossBackward0>)\n",
      "Epoch: 750 Error: tensor(15.2288, dtype=torch.float64, grad_fn=<MseLossBackward0>)\n",
      "Epoch: 760 Error: tensor(15.2288, dtype=torch.float64, grad_fn=<MseLossBackward0>)\n",
      "Epoch: 770 Error: tensor(15.2288, dtype=torch.float64, grad_fn=<MseLossBackward0>)\n",
      "Epoch: 780 Error: tensor(15.2288, dtype=torch.float64, grad_fn=<MseLossBackward0>)\n",
      "Epoch: 790 Error: tensor(15.2288, dtype=torch.float64, grad_fn=<MseLossBackward0>)\n",
      "Epoch: 800 Error: tensor(15.2288, dtype=torch.float64, grad_fn=<MseLossBackward0>)\n",
      "Epoch: 810 Error: tensor(15.2288, dtype=torch.float64, grad_fn=<MseLossBackward0>)\n",
      "Epoch: 820 Error: tensor(15.2288, dtype=torch.float64, grad_fn=<MseLossBackward0>)\n",
      "Epoch: 830 Error: tensor(15.2288, dtype=torch.float64, grad_fn=<MseLossBackward0>)\n",
      "Epoch: 840 Error: tensor(15.2288, dtype=torch.float64, grad_fn=<MseLossBackward0>)\n",
      "Epoch: 850 Error: tensor(15.2288, dtype=torch.float64, grad_fn=<MseLossBackward0>)\n",
      "Epoch: 860 Error: tensor(15.2288, dtype=torch.float64, grad_fn=<MseLossBackward0>)\n",
      "Epoch: 870 Error: tensor(15.2288, dtype=torch.float64, grad_fn=<MseLossBackward0>)\n",
      "Epoch: 880 Error: tensor(15.2288, dtype=torch.float64, grad_fn=<MseLossBackward0>)\n",
      "Epoch: 890 Error: tensor(15.2288, dtype=torch.float64, grad_fn=<MseLossBackward0>)\n",
      "Epoch: 900 Error: tensor(15.2288, dtype=torch.float64, grad_fn=<MseLossBackward0>)\n",
      "Epoch: 910 Error: tensor(15.2288, dtype=torch.float64, grad_fn=<MseLossBackward0>)\n",
      "Epoch: 920 Error: tensor(15.2288, dtype=torch.float64, grad_fn=<MseLossBackward0>)\n",
      "Epoch: 930 Error: tensor(15.2288, dtype=torch.float64, grad_fn=<MseLossBackward0>)\n",
      "Epoch: 940 Error: tensor(15.2288, dtype=torch.float64, grad_fn=<MseLossBackward0>)\n",
      "Epoch: 950 Error: tensor(15.2288, dtype=torch.float64, grad_fn=<MseLossBackward0>)\n",
      "Epoch: 960 Error: tensor(15.2288, dtype=torch.float64, grad_fn=<MseLossBackward0>)\n",
      "Epoch: 970 Error: tensor(15.2288, dtype=torch.float64, grad_fn=<MseLossBackward0>)\n",
      "Epoch: 980 Error: tensor(15.2288, dtype=torch.float64, grad_fn=<MseLossBackward0>)\n",
      "Epoch: 990 Error: tensor(15.2288, dtype=torch.float64, grad_fn=<MseLossBackward0>)\n",
      "torch.Size([4, 2])\n",
      "Rank 2: tensor(15.2288, dtype=torch.float64, grad_fn=<MseLossBackward0>)\n"
     ]
    }
   ],
   "source": [
    "import pandas as pd\n",
    "df = pd.read_csv('http://archive.ics.uci.edu/ml/machine-learning-databases'+'/iris/iris.data',header=None)\n",
    "data = torch.tensor(df.iloc[:,[0,1,2,3]].values)\n",
    "data = data - data.mean(dim=0)\n",
    "print(data.size())\n",
    "U_,V_ = gd_factorise_ad(data,2)\n",
    "print(V_.size())\n",
    "print(\"Rank 2:\",torch.nn.functional.mse_loss(U_@V_.t(),data,reduction='sum'))\n",
    "# U__,V__ = gd_factorise_ad(data,4)\n",
    "# print(\"Rank 4:\",torch.nn.functional.mse_loss(U__@V__.t(),data,reduction='sum'))"
   ]
  },
  {
   "cell_type": "code",
   "execution_count": 11,
   "id": "9e0a440b",
   "metadata": {},
   "outputs": [
    {
     "name": "stdout",
     "output_type": "stream",
     "text": [
      "torch.Size([150, 4])\n",
      "S: tensor([25.0899,  6.0079,  3.4205,  1.8785], dtype=torch.float64)\n",
      "Error: tensor(3.5288, dtype=torch.float64)\n"
     ]
    }
   ],
   "source": [
    "import torch\n",
    "from scipy.linalg import sqrtm\n",
    "\n",
    "U,S,V_T = torch.svd(data)\n",
    "print(U.size())\n",
    "print(\"S:\",S)\n",
    "S[-1] = 0\n",
    "SS_ = torch.diag(S)\n",
    "# U_ = U@sqrtm(SS_)\n",
    "# V_T_ = V_T@sqrtm(SS_)\n",
    "# data_ = U_@V_T_.t()\n",
    "data_ = U@SS_@V_T.t()\n",
    "# print(\"U_:\",U)\n",
    "# print(\"V_T_:\",V_T_)\n",
    "# print(\"data*:\",data_)\n",
    "# print(\"data:\",data)\n",
    "print(\"Error:\",torch.nn.functional.mse_loss(data_,data,reduction ='sum'))"
   ]
  },
  {
   "cell_type": "code",
   "execution_count": 27,
   "id": "aa9ccb99",
   "metadata": {},
   "outputs": [
    {
     "data": {
      "image/png": "[encoded data removed]",
      "text/plain": [
       "<Figure size 864x360 with 2 Axes>"
      ]
     },
     "metadata": {
      "needs_background": "light"
     },
     "output_type": "display_data"
    }
   ],
   "source": [
    "%matplotlib inline\n",
    "import matplotlib.pyplot as plt\n",
    "import numpy as np\n",
    "fig, ax = plt.subplots(nrows = 1, ncols = 2,figsize=(12,5))\n",
    "ax[0].scatter(U[:,0], U[:,1], c=\"c\", s=2.5)\n",
    "ax[1].scatter(U_[:,0], U_[:,1], c=\"m\", s=2.5)\n",
    "# ax.set_xlim(-6, 6)\n",
    "# ax.set_ylim(-6, 6)\n",
    "plt.savefig(\"Compare against PCA.png\")"
   ]
  },
  {
   "cell_type": "code",
   "execution_count": 11,
   "id": "37035e62",
   "metadata": {},
   "outputs": [
    {
     "name": "stdout",
     "output_type": "stream",
     "text": [
      "torch.Size([100, 4])\n",
      "torch.Size([50, 4])\n"
     ]
    }
   ],
   "source": [
    "import torch\n",
    "import pandas as pd\n",
    "torch.set_default_tensor_type(torch.DoubleTensor)\n",
    "df0 = pd.read_csv('http://archive.ics.uci.edu/ml/machine-learning-databases'+'/iris/iris.data',header=None)\n",
    "df = df0.sample(frac = 1) #shuffle\n",
    "# print(df0)\n",
    "# print(df)\n",
    "\n",
    "#add label indices column\n",
    "mapping = {k: v for v, k in enumerate(df[4].unique())}\n",
    "df[5] = df[4].map(mapping)\n",
    "# print(df)\n",
    "\n",
    "#normalisation\n",
    "alldata = torch.tensor(df.iloc[:,[0,1,2,3]].values, dtype=torch.float)\n",
    "alldata = (alldata - alldata.mean(dim=0))/alldata.var(dim=0)\n",
    "\n",
    "#create datasets\n",
    "targets_train = torch.tensor(df.iloc[:100,5].values, dtype=torch.long)\n",
    "targets_valid = torch.tensor(df.iloc[100:,5].values, dtype=torch.long)\n",
    "data_train = alldata[:100]\n",
    "data_valid = alldata[100:]\n",
    "# print(data_train.size())\n",
    "# print(type(data_train))\n",
    "# print(data_valid.size())"
   ]
  },
  {
   "cell_type": "code",
   "execution_count": 8,
   "id": "adee1e95",
   "metadata": {},
   "outputs": [],
   "source": [
    "#MLP\n",
    "import numpy as np\n",
    "from sklearn.metrics import accuracy_score\n",
    "def MLP(Data,Target,num_epochs = 100,lr = 0.01):\n",
    "    W1 = torch.randn(4,12)\n",
    "    W2 = torch.randn(12,3)\n",
    "    W1 = W1.float()\n",
    "    W2 = W2.float()\n",
    "    W1 = W1.clone().detach().requires_grad_(True)\n",
    "    W2 = W2.clone().detach().requires_grad_(True)\n",
    "    b1 = torch.tensor(0.0,requires_grad=True)\n",
    "    b2 = torch.tensor(0.0,requires_grad=True)\n",
    "    for epoch in range(num_epochs):\n",
    "        logits = torch.relu(Data @ W1 + b1)@ W2 + b2\n",
    "        Error = torch.nn.functional.cross_entropy(logits,Target)\n",
    "        Error.backward()\n",
    "        W1.data -= lr*W1.grad\n",
    "        W2.data -= lr*W2.grad\n",
    "        b1.data -= lr*b1.grad\n",
    "        b2.data -= lr*b2.grad\n",
    "#         if epoch%10==0 :\n",
    "#             print(\"Epoch:\",epoch,\"Error:\",Error)\n",
    "    W1e = W1.data\n",
    "    W2e = W2.data\n",
    "    b1e = b1.data\n",
    "    b2e = b2.data\n",
    "    output  = torch.relu(Data @ W1e + b1e)@ W2e + b2e\n",
    "#     print(output)\n",
    "#     print(output.size())\n",
    "    pred = output.argmax(dim=1)\n",
    "#     print(pred)\n",
    "#     print(Target)\n",
    "    Accuracy = accuracy_score(pred, Target)\n",
    "#     print(Accuracy)\n",
    "#     return Accuracy,Error\n",
    "    return Accuracy,Error"
   ]
  },
  {
   "cell_type": "code",
   "execution_count": 20,
   "id": "8f89e170",
   "metadata": {
    "scrolled": false
   },
   "outputs": [
    {
     "name": "stdout",
     "output_type": "stream",
     "text": [
      "Accuracy_Train: 0.88\n",
      "Error_Train: tensor(1.2817, dtype=torch.float32, grad_fn=<NllLossBackward0>)\n",
      "Accuracy_Valid: 0.9\n",
      "Error_Valid: tensor(0.3157, dtype=torch.float32, grad_fn=<NllLossBackward0>)\n"
     ]
    }
   ],
   "source": [
    "Accuracy1,Error1 = MLP(data_train,targets_train)\n",
    "Accuracy2,Error2 = MLP(data_valid,targets_valid)\n",
    "\n",
    "\n",
    "print(\"Accuracy_Train:\",Accuracy1)\n",
    "print(\"Error_Train:\",Error1)\n",
    "print(\"Accuracy_Valid:\",Accuracy2)\n",
    "print(\"Error_Valid:\",Error2)"
   ]
  },
  {
   "cell_type": "code",
   "execution_count": null,
   "id": "d6d68365",
   "metadata": {},
   "outputs": [],
   "source": []
  },
  {
   "cell_type": "code",
   "execution_count": null,
   "id": "c4e805e0",
   "metadata": {},
   "outputs": [],
   "source": []
  }
 ],
 "metadata": {
  "kernelspec": {
   "display_name": "Python 3",
   "language": "python",
   "name": "python3"
  },
  "language_info": {
   "codemirror_mode": {
    "name": "ipython",
    "version": 3
   },
   "file_extension": ".py",
   "mimetype": "text/x-python",
   "name": "python",
   "nbconvert_exporter": "python",
   "pygments_lexer": "ipython3",
   "version": "3.8.8"
  }
 },
 "nbformat": 4,
 "nbformat_minor": 5
}
